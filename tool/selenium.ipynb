{
 "cells": [
  {
   "cell_type": "markdown",
   "id": "74bbeb68",
   "metadata": {},
   "source": [
    "# 구글플레이 스토어 크롤링\n",
    "\n",
    "### uv add selenium"
   ]
  },
  {
   "cell_type": "code",
   "execution_count": 121,
   "id": "52ac347d",
   "metadata": {},
   "outputs": [],
   "source": [
    "# 1. URL 접속\n",
    "\n",
    "import pandas as pd\n",
    "from io import StringIO\n",
    "from selenium import webdriver\n",
    "from selenium.webdriver.support.ui import Select\n",
    "from selenium.webdriver.support.ui import WebDriverWait\n",
    "from selenium.webdriver.support import expected_conditions as EC\n",
    "from selenium.webdriver.common.by import By\n",
    "from selenium.webdriver.common.keys import Keys\n",
    "\n",
    "driver = webdriver.Chrome()\n",
    "\n",
    "# 땡겨요 구글 플레이 스토어 창\n",
    "# url = \"https://play.google.com/store/search?q=%EB%95%A1%EA%B2%A8%EC%9A%94&c=apps&hl=ko\"\n",
    "\n",
    "# 구글플레이 스토어 메인\n",
    "url = 'https://play.google.com/store/games?hl=ko&pli=1'\n",
    "driver.get(url)                 # URL로 이동\n",
    "#driver.maximize_window()        # 열린 크롬창 최대화"
   ]
  },
  {
   "cell_type": "code",
   "execution_count": 122,
   "id": "c1e3cf76",
   "metadata": {},
   "outputs": [],
   "source": [
    "# 2. 검색 버튼 누르기\n",
    "\n",
    "search_btn_css = \"#kO001e > header > nav > div > div:nth-child(1) > button > i\"\n",
    "search_btn = driver.find_element(By.CSS_SELECTOR, search_btn_css) # By.ID / By.NAME / By.CLASS_NAME\n",
    "search_btn.click()"
   ]
  },
  {
   "cell_type": "code",
   "execution_count": 123,
   "id": "47cd4f92",
   "metadata": {},
   "outputs": [],
   "source": [
    "# 3. 검색어 입력\n",
    "\n",
    "keyword = \"땡겨요\"\n",
    "\n",
    "input_box_css = \"#kO001e > header > nav > c-wiz > div > div > label > input\"\n",
    "input_box = driver.find_element(By.CSS_SELECTOR, input_box_css)\n",
    "input_box.send_keys(keyword)\n",
    "input_box.send_keys(Keys.ENTER)"
   ]
  },
  {
   "cell_type": "code",
   "execution_count": 124,
   "id": "a0627056",
   "metadata": {},
   "outputs": [],
   "source": [
    "# 4. 상세 보기 클릭\n",
    "\n",
    "detail_area_css = \"#yDmH0d > c-wiz:nth-child(7) > div > div > c-wiz > c-wiz:nth-child(1) > c-wiz > section > div > div > a\"\n",
    "detail_area = driver.find_element(By.CSS_SELECTOR, detail_area_css)\n",
    "detail_url = detail_area.get_attribute(\"href\")\n",
    "driver.get(detail_url)"
   ]
  },
  {
   "cell_type": "code",
   "execution_count": 125,
   "id": "5a521fe3",
   "metadata": {},
   "outputs": [],
   "source": [
    "# 5. 평점 및 리뷰 더보기 클릭\n",
    "\n",
    "more_btn_css = \"#yDmH0d > c-wiz.SSPGKf.Czez9d > div > div > div:nth-child(1) > div > div.wkMJlb.YWi3ub > div > div.qZmL0 > div:nth-child(1) > c-wiz:nth-child(5) > section > header > div > div:nth-child(2) > button > i\"\n",
    "more_btn = driver.find_element(By.CSS_SELECTOR, more_btn_css)\n",
    "more_btn.click()"
   ]
  },
  {
   "cell_type": "code",
   "execution_count": 126,
   "id": "29499c93",
   "metadata": {},
   "outputs": [],
   "source": [
    "# 6. 스크롤 내리기\n",
    "rep = 50 # TODO 마지막까지 스크롤 하는 법으로 수정\n",
    "\n",
    "display_box_css = '#yDmH0d > div.VfPpkd-Sx9Kwc.cC1eCc.UDxLd.PzCPDd.HQdjr.VfPpkd-Sx9Kwc-OWXEXe-FNFY6c > div.VfPpkd-wzTsW > div > div > div > div > div.fysCi.Vk3ZVd'\n",
    "display_box = driver.find_element(By.CSS_SELECTOR, display_box_css)\n",
    "for i in range(rep):\n",
    "    display_box.send_keys(Keys.END)"
   ]
  },
  {
   "cell_type": "code",
   "execution_count": 127,
   "id": "9f9d7c3c",
   "metadata": {},
   "outputs": [],
   "source": [
    "# 7. 스크롤 맨 위로 움직이기(올린 후에 크롤링해야 정확)\n",
    "display_box.send_keys(Keys.HOME)"
   ]
  },
  {
   "cell_type": "code",
   "execution_count": 128,
   "id": "717dae89",
   "metadata": {},
   "outputs": [
    {
     "name": "stdout",
     "output_type": "stream",
     "text": [
      "장수범, 별표 5개 만점에 2개를 받았습니다., 2025년 7월 17일, 인터페이스 가게 메뉴 사진이 너무 큽니다. 한 화면어 가게 리스트도 몇개 안되고, 가게명을 우선으로 보면서 스크롤 하는데, 스크롤해서 내리면 보면, 가게 놓치기 일쑤고, 손가락 아프고, 가게 음식? 사진 큰 화면 너무 불편함.. 검색이니 찜이니 그 방법이 있다???라고 말씀하시면, 그게 주문자 입장의 최선의 방법일까요?\n"
     ]
    }
   ],
   "source": [
    "# 8. 리뷰 추출하기\n",
    "reviews_css = \"#yDmH0d > div.VfPpkd-Sx9Kwc.cC1eCc.UDxLd.PzCPDd.HQdjr.VfPpkd-Sx9Kwc-OWXEXe-FNFY6c > div.VfPpkd-wzTsW > div > div > div > div > div.fysCi.Vk3ZVd > div > div:nth-child(2) > div\"\n",
    "reviews = driver.find_elements(By.CSS_SELECTOR, reviews_css)\n",
    "reviews\n",
    "\n",
    "# 한 개 리뷰 확인하기\n",
    "review = reviews[0]\n",
    "customer_id = review.find_element(By.CLASS_NAME, \"X5PpBb\").text\n",
    "star = review.find_element(By.CLASS_NAME, \"iXRFPc\").get_attribute(\"aria-label\")\n",
    "enroll_date = review.find_element(By.CLASS_NAME, \"bp9Aid\").text\n",
    "content = review.find_element(By.CLASS_NAME, \"h3YV2d\").text\n",
    "\n",
    "print(f'{customer_id}, {star}, {enroll_date}, {content}')"
   ]
  },
  {
   "cell_type": "code",
   "execution_count": 129,
   "id": "1153f9e2",
   "metadata": {},
   "outputs": [
    {
     "name": "stdout",
     "output_type": "stream",
     "text": [
      "1개의 데이터를 수집 중입니다.....\n",
      "21개의 데이터를 수집 중입니다.....\n",
      "41개의 데이터를 수집 중입니다.....\n",
      "61개의 데이터를 수집 중입니다.....\n",
      "81개의 데이터를 수집 중입니다.....\n",
      "101개의 데이터를 수집 중입니다.....\n",
      "121개의 데이터를 수집 중입니다.....\n",
      "141개의 데이터를 수집 중입니다.....\n",
      "161개의 데이터를 수집 중입니다.....\n",
      "181개의 데이터를 수집 중입니다.....\n",
      "201개의 데이터를 수집 중입니다.....\n",
      "221개의 데이터를 수집 중입니다.....\n",
      "241개의 데이터를 수집 중입니다.....\n",
      "261개의 데이터를 수집 중입니다.....\n",
      "281개의 데이터를 수집 중입니다.....\n",
      "301개의 데이터를 수집 중입니다.....\n",
      "321개의 데이터를 수집 중입니다.....\n",
      "341개의 데이터를 수집 중입니다.....\n",
      "361개의 데이터를 수집 중입니다.....\n",
      "381개의 데이터를 수집 중입니다.....\n",
      "401개의 데이터를 수집 중입니다.....\n",
      "421개의 데이터를 수집 중입니다.....\n",
      "441개의 데이터를 수집 중입니다.....\n",
      "461개의 데이터를 수집 중입니다.....\n",
      "481개의 데이터를 수집 중입니다.....\n",
      "501개의 데이터를 수집 중입니다.....\n",
      "521개의 데이터를 수집 중입니다.....\n",
      "541개의 데이터를 수집 중입니다.....\n",
      "561개의 데이터를 수집 중입니다.....\n",
      "581개의 데이터를 수집 중입니다.....\n",
      "601개의 데이터를 수집 중입니다.....\n",
      "621개의 데이터를 수집 중입니다.....\n"
     ]
    }
   ],
   "source": [
    "# 반복문\n",
    "data_list = []\n",
    "\n",
    "for i, review in enumerate(reviews):\n",
    "    customer_id = review.find_element(By.CLASS_NAME, \"X5PpBb\").text\n",
    "    star = review.find_element(By.CLASS_NAME, \"iXRFPc\").get_attribute(\"aria-label\")\n",
    "    enroll_date = review.find_element(By.CLASS_NAME, \"bp9Aid\").text\n",
    "    content = review.find_element(By.CLASS_NAME, \"h3YV2d\").text\n",
    "        \n",
    "    data_dict = {\n",
    "        \"customer_id\": customer_id,\n",
    "        \"star\": star[10],\n",
    "        \"enroll_date\": enroll_date,\n",
    "        \"content\": content\n",
    "    }\n",
    "\n",
    "    data_list.append(data_dict)\n",
    "\n",
    "    if i % 20 == 0:\n",
    "        print(f\"{i+1}개의 데이터를 수집 중입니다.....\")"
   ]
  },
  {
   "cell_type": "code",
   "execution_count": null,
   "id": "7053fbe6",
   "metadata": {},
   "outputs": [
    {
     "name": "stderr",
     "output_type": "stream",
     "text": [
      "<>:5: SyntaxWarning: invalid escape sequence '\\d'\n",
      "<>:5: SyntaxWarning: invalid escape sequence '\\d'\n",
      "C:\\Users\\user\\AppData\\Local\\Temp\\ipykernel_26488\\3338472406.py:5: SyntaxWarning: invalid escape sequence '\\d'\n",
      "  df = pd.read_csv('data\\dgy_sel.csv')\n",
      "C:\\Users\\user\\AppData\\Local\\Temp\\ipykernel_26488\\3338472406.py:5: SyntaxWarning: invalid escape sequence '\\d'\n",
      "  df = pd.read_csv('data\\dgy_sel.csv')\n"
     ]
    },
    {
     "ename": "FileNotFoundError",
     "evalue": "[Errno 2] No such file or directory: 'data\\\\dgy_sel.csv'",
     "output_type": "error",
     "traceback": [
      "\u001b[31m---------------------------------------------------------------------------\u001b[39m",
      "\u001b[31mFileNotFoundError\u001b[39m                         Traceback (most recent call last)",
      "\u001b[36mCell\u001b[39m\u001b[36m \u001b[39m\u001b[32mIn[116]\u001b[39m\u001b[32m, line 5\u001b[39m\n\u001b[32m      1\u001b[39m df = pd.DataFrame(data_list)\n\u001b[32m      3\u001b[39m df.to_csv(\u001b[33m'\u001b[39m\u001b[33mC:\u001b[39m\u001b[38;5;130;01m\\\\\u001b[39;00m\u001b[33mwalker\u001b[39m\u001b[38;5;130;01m\\\\\u001b[39;00m\u001b[33mcode\u001b[39m\u001b[38;5;130;01m\\\\\u001b[39;00m\u001b[33mdata-collector\u001b[39m\u001b[38;5;130;01m\\\\\u001b[39;00m\u001b[33mdata\u001b[39m\u001b[38;5;130;01m\\\\\u001b[39;00m\u001b[33mdgy_sel.csv\u001b[39m\u001b[33m'\u001b[39m)\n\u001b[32m----> \u001b[39m\u001b[32m5\u001b[39m df = \u001b[43mpd\u001b[49m\u001b[43m.\u001b[49m\u001b[43mread_csv\u001b[49m\u001b[43m(\u001b[49m\u001b[33;43m'\u001b[39;49m\u001b[33;43mdata\u001b[39;49m\u001b[33;43m\\\u001b[39;49m\u001b[33;43mdgy_sel.csv\u001b[39;49m\u001b[33;43m'\u001b[39;49m\u001b[43m)\u001b[49m\n\u001b[32m      6\u001b[39m \u001b[38;5;28mprint\u001b[39m(df)\n",
      "\u001b[36mFile \u001b[39m\u001b[32mc:\\walker\\code\\data-collector\\.venv\\Lib\\site-packages\\pandas\\io\\parsers\\readers.py:1026\u001b[39m, in \u001b[36mread_csv\u001b[39m\u001b[34m(filepath_or_buffer, sep, delimiter, header, names, index_col, usecols, dtype, engine, converters, true_values, false_values, skipinitialspace, skiprows, skipfooter, nrows, na_values, keep_default_na, na_filter, verbose, skip_blank_lines, parse_dates, infer_datetime_format, keep_date_col, date_parser, date_format, dayfirst, cache_dates, iterator, chunksize, compression, thousands, decimal, lineterminator, quotechar, quoting, doublequote, escapechar, comment, encoding, encoding_errors, dialect, on_bad_lines, delim_whitespace, low_memory, memory_map, float_precision, storage_options, dtype_backend)\u001b[39m\n\u001b[32m   1013\u001b[39m kwds_defaults = _refine_defaults_read(\n\u001b[32m   1014\u001b[39m     dialect,\n\u001b[32m   1015\u001b[39m     delimiter,\n\u001b[32m   (...)\u001b[39m\u001b[32m   1022\u001b[39m     dtype_backend=dtype_backend,\n\u001b[32m   1023\u001b[39m )\n\u001b[32m   1024\u001b[39m kwds.update(kwds_defaults)\n\u001b[32m-> \u001b[39m\u001b[32m1026\u001b[39m \u001b[38;5;28;01mreturn\u001b[39;00m \u001b[43m_read\u001b[49m\u001b[43m(\u001b[49m\u001b[43mfilepath_or_buffer\u001b[49m\u001b[43m,\u001b[49m\u001b[43m \u001b[49m\u001b[43mkwds\u001b[49m\u001b[43m)\u001b[49m\n",
      "\u001b[36mFile \u001b[39m\u001b[32mc:\\walker\\code\\data-collector\\.venv\\Lib\\site-packages\\pandas\\io\\parsers\\readers.py:620\u001b[39m, in \u001b[36m_read\u001b[39m\u001b[34m(filepath_or_buffer, kwds)\u001b[39m\n\u001b[32m    617\u001b[39m _validate_names(kwds.get(\u001b[33m\"\u001b[39m\u001b[33mnames\u001b[39m\u001b[33m\"\u001b[39m, \u001b[38;5;28;01mNone\u001b[39;00m))\n\u001b[32m    619\u001b[39m \u001b[38;5;66;03m# Create the parser.\u001b[39;00m\n\u001b[32m--> \u001b[39m\u001b[32m620\u001b[39m parser = \u001b[43mTextFileReader\u001b[49m\u001b[43m(\u001b[49m\u001b[43mfilepath_or_buffer\u001b[49m\u001b[43m,\u001b[49m\u001b[43m \u001b[49m\u001b[43m*\u001b[49m\u001b[43m*\u001b[49m\u001b[43mkwds\u001b[49m\u001b[43m)\u001b[49m\n\u001b[32m    622\u001b[39m \u001b[38;5;28;01mif\u001b[39;00m chunksize \u001b[38;5;129;01mor\u001b[39;00m iterator:\n\u001b[32m    623\u001b[39m     \u001b[38;5;28;01mreturn\u001b[39;00m parser\n",
      "\u001b[36mFile \u001b[39m\u001b[32mc:\\walker\\code\\data-collector\\.venv\\Lib\\site-packages\\pandas\\io\\parsers\\readers.py:1620\u001b[39m, in \u001b[36mTextFileReader.__init__\u001b[39m\u001b[34m(self, f, engine, **kwds)\u001b[39m\n\u001b[32m   1617\u001b[39m     \u001b[38;5;28mself\u001b[39m.options[\u001b[33m\"\u001b[39m\u001b[33mhas_index_names\u001b[39m\u001b[33m\"\u001b[39m] = kwds[\u001b[33m\"\u001b[39m\u001b[33mhas_index_names\u001b[39m\u001b[33m\"\u001b[39m]\n\u001b[32m   1619\u001b[39m \u001b[38;5;28mself\u001b[39m.handles: IOHandles | \u001b[38;5;28;01mNone\u001b[39;00m = \u001b[38;5;28;01mNone\u001b[39;00m\n\u001b[32m-> \u001b[39m\u001b[32m1620\u001b[39m \u001b[38;5;28mself\u001b[39m._engine = \u001b[38;5;28;43mself\u001b[39;49m\u001b[43m.\u001b[49m\u001b[43m_make_engine\u001b[49m\u001b[43m(\u001b[49m\u001b[43mf\u001b[49m\u001b[43m,\u001b[49m\u001b[43m \u001b[49m\u001b[38;5;28;43mself\u001b[39;49m\u001b[43m.\u001b[49m\u001b[43mengine\u001b[49m\u001b[43m)\u001b[49m\n",
      "\u001b[36mFile \u001b[39m\u001b[32mc:\\walker\\code\\data-collector\\.venv\\Lib\\site-packages\\pandas\\io\\parsers\\readers.py:1880\u001b[39m, in \u001b[36mTextFileReader._make_engine\u001b[39m\u001b[34m(self, f, engine)\u001b[39m\n\u001b[32m   1878\u001b[39m     \u001b[38;5;28;01mif\u001b[39;00m \u001b[33m\"\u001b[39m\u001b[33mb\u001b[39m\u001b[33m\"\u001b[39m \u001b[38;5;129;01mnot\u001b[39;00m \u001b[38;5;129;01min\u001b[39;00m mode:\n\u001b[32m   1879\u001b[39m         mode += \u001b[33m\"\u001b[39m\u001b[33mb\u001b[39m\u001b[33m\"\u001b[39m\n\u001b[32m-> \u001b[39m\u001b[32m1880\u001b[39m \u001b[38;5;28mself\u001b[39m.handles = \u001b[43mget_handle\u001b[49m\u001b[43m(\u001b[49m\n\u001b[32m   1881\u001b[39m \u001b[43m    \u001b[49m\u001b[43mf\u001b[49m\u001b[43m,\u001b[49m\n\u001b[32m   1882\u001b[39m \u001b[43m    \u001b[49m\u001b[43mmode\u001b[49m\u001b[43m,\u001b[49m\n\u001b[32m   1883\u001b[39m \u001b[43m    \u001b[49m\u001b[43mencoding\u001b[49m\u001b[43m=\u001b[49m\u001b[38;5;28;43mself\u001b[39;49m\u001b[43m.\u001b[49m\u001b[43moptions\u001b[49m\u001b[43m.\u001b[49m\u001b[43mget\u001b[49m\u001b[43m(\u001b[49m\u001b[33;43m\"\u001b[39;49m\u001b[33;43mencoding\u001b[39;49m\u001b[33;43m\"\u001b[39;49m\u001b[43m,\u001b[49m\u001b[43m \u001b[49m\u001b[38;5;28;43;01mNone\u001b[39;49;00m\u001b[43m)\u001b[49m\u001b[43m,\u001b[49m\n\u001b[32m   1884\u001b[39m \u001b[43m    \u001b[49m\u001b[43mcompression\u001b[49m\u001b[43m=\u001b[49m\u001b[38;5;28;43mself\u001b[39;49m\u001b[43m.\u001b[49m\u001b[43moptions\u001b[49m\u001b[43m.\u001b[49m\u001b[43mget\u001b[49m\u001b[43m(\u001b[49m\u001b[33;43m\"\u001b[39;49m\u001b[33;43mcompression\u001b[39;49m\u001b[33;43m\"\u001b[39;49m\u001b[43m,\u001b[49m\u001b[43m \u001b[49m\u001b[38;5;28;43;01mNone\u001b[39;49;00m\u001b[43m)\u001b[49m\u001b[43m,\u001b[49m\n\u001b[32m   1885\u001b[39m \u001b[43m    \u001b[49m\u001b[43mmemory_map\u001b[49m\u001b[43m=\u001b[49m\u001b[38;5;28;43mself\u001b[39;49m\u001b[43m.\u001b[49m\u001b[43moptions\u001b[49m\u001b[43m.\u001b[49m\u001b[43mget\u001b[49m\u001b[43m(\u001b[49m\u001b[33;43m\"\u001b[39;49m\u001b[33;43mmemory_map\u001b[39;49m\u001b[33;43m\"\u001b[39;49m\u001b[43m,\u001b[49m\u001b[43m \u001b[49m\u001b[38;5;28;43;01mFalse\u001b[39;49;00m\u001b[43m)\u001b[49m\u001b[43m,\u001b[49m\n\u001b[32m   1886\u001b[39m \u001b[43m    \u001b[49m\u001b[43mis_text\u001b[49m\u001b[43m=\u001b[49m\u001b[43mis_text\u001b[49m\u001b[43m,\u001b[49m\n\u001b[32m   1887\u001b[39m \u001b[43m    \u001b[49m\u001b[43merrors\u001b[49m\u001b[43m=\u001b[49m\u001b[38;5;28;43mself\u001b[39;49m\u001b[43m.\u001b[49m\u001b[43moptions\u001b[49m\u001b[43m.\u001b[49m\u001b[43mget\u001b[49m\u001b[43m(\u001b[49m\u001b[33;43m\"\u001b[39;49m\u001b[33;43mencoding_errors\u001b[39;49m\u001b[33;43m\"\u001b[39;49m\u001b[43m,\u001b[49m\u001b[43m \u001b[49m\u001b[33;43m\"\u001b[39;49m\u001b[33;43mstrict\u001b[39;49m\u001b[33;43m\"\u001b[39;49m\u001b[43m)\u001b[49m\u001b[43m,\u001b[49m\n\u001b[32m   1888\u001b[39m \u001b[43m    \u001b[49m\u001b[43mstorage_options\u001b[49m\u001b[43m=\u001b[49m\u001b[38;5;28;43mself\u001b[39;49m\u001b[43m.\u001b[49m\u001b[43moptions\u001b[49m\u001b[43m.\u001b[49m\u001b[43mget\u001b[49m\u001b[43m(\u001b[49m\u001b[33;43m\"\u001b[39;49m\u001b[33;43mstorage_options\u001b[39;49m\u001b[33;43m\"\u001b[39;49m\u001b[43m,\u001b[49m\u001b[43m \u001b[49m\u001b[38;5;28;43;01mNone\u001b[39;49;00m\u001b[43m)\u001b[49m\u001b[43m,\u001b[49m\n\u001b[32m   1889\u001b[39m \u001b[43m\u001b[49m\u001b[43m)\u001b[49m\n\u001b[32m   1890\u001b[39m \u001b[38;5;28;01massert\u001b[39;00m \u001b[38;5;28mself\u001b[39m.handles \u001b[38;5;129;01mis\u001b[39;00m \u001b[38;5;129;01mnot\u001b[39;00m \u001b[38;5;28;01mNone\u001b[39;00m\n\u001b[32m   1891\u001b[39m f = \u001b[38;5;28mself\u001b[39m.handles.handle\n",
      "\u001b[36mFile \u001b[39m\u001b[32mc:\\walker\\code\\data-collector\\.venv\\Lib\\site-packages\\pandas\\io\\common.py:873\u001b[39m, in \u001b[36mget_handle\u001b[39m\u001b[34m(path_or_buf, mode, encoding, compression, memory_map, is_text, errors, storage_options)\u001b[39m\n\u001b[32m    868\u001b[39m \u001b[38;5;28;01melif\u001b[39;00m \u001b[38;5;28misinstance\u001b[39m(handle, \u001b[38;5;28mstr\u001b[39m):\n\u001b[32m    869\u001b[39m     \u001b[38;5;66;03m# Check whether the filename is to be opened in binary mode.\u001b[39;00m\n\u001b[32m    870\u001b[39m     \u001b[38;5;66;03m# Binary mode does not support 'encoding' and 'newline'.\u001b[39;00m\n\u001b[32m    871\u001b[39m     \u001b[38;5;28;01mif\u001b[39;00m ioargs.encoding \u001b[38;5;129;01mand\u001b[39;00m \u001b[33m\"\u001b[39m\u001b[33mb\u001b[39m\u001b[33m\"\u001b[39m \u001b[38;5;129;01mnot\u001b[39;00m \u001b[38;5;129;01min\u001b[39;00m ioargs.mode:\n\u001b[32m    872\u001b[39m         \u001b[38;5;66;03m# Encoding\u001b[39;00m\n\u001b[32m--> \u001b[39m\u001b[32m873\u001b[39m         handle = \u001b[38;5;28;43mopen\u001b[39;49m\u001b[43m(\u001b[49m\n\u001b[32m    874\u001b[39m \u001b[43m            \u001b[49m\u001b[43mhandle\u001b[49m\u001b[43m,\u001b[49m\n\u001b[32m    875\u001b[39m \u001b[43m            \u001b[49m\u001b[43mioargs\u001b[49m\u001b[43m.\u001b[49m\u001b[43mmode\u001b[49m\u001b[43m,\u001b[49m\n\u001b[32m    876\u001b[39m \u001b[43m            \u001b[49m\u001b[43mencoding\u001b[49m\u001b[43m=\u001b[49m\u001b[43mioargs\u001b[49m\u001b[43m.\u001b[49m\u001b[43mencoding\u001b[49m\u001b[43m,\u001b[49m\n\u001b[32m    877\u001b[39m \u001b[43m            \u001b[49m\u001b[43merrors\u001b[49m\u001b[43m=\u001b[49m\u001b[43merrors\u001b[49m\u001b[43m,\u001b[49m\n\u001b[32m    878\u001b[39m \u001b[43m            \u001b[49m\u001b[43mnewline\u001b[49m\u001b[43m=\u001b[49m\u001b[33;43m\"\u001b[39;49m\u001b[33;43m\"\u001b[39;49m\u001b[43m,\u001b[49m\n\u001b[32m    879\u001b[39m \u001b[43m        \u001b[49m\u001b[43m)\u001b[49m\n\u001b[32m    880\u001b[39m     \u001b[38;5;28;01melse\u001b[39;00m:\n\u001b[32m    881\u001b[39m         \u001b[38;5;66;03m# Binary mode\u001b[39;00m\n\u001b[32m    882\u001b[39m         handle = \u001b[38;5;28mopen\u001b[39m(handle, ioargs.mode)\n",
      "\u001b[31mFileNotFoundError\u001b[39m: [Errno 2] No such file or directory: 'data\\\\dgy_sel.csv'"
     ]
    }
   ],
   "source": [
    "df = pd.DataFrame(data_list)\n",
    "\n",
    "df.to_csv('C:\\\\walker\\\\code\\\\data-collector\\\\data\\\\dgy_sel.csv')"
   ]
  },
  {
   "cell_type": "code",
   "execution_count": 130,
   "id": "cef5dfe3",
   "metadata": {},
   "outputs": [
    {
     "name": "stdout",
     "output_type": "stream",
     "text": [
      "     Unnamed: 0 customer_id  star   enroll_date  \\\n",
      "0             0         정상은     1  2025년 7월 16일   \n",
      "1             1      잠자는곰돌이     3  2025년 7월 10일   \n",
      "2             2          서해     5  2025년 7월 17일   \n",
      "3             3         안소연     5   2025년 7월 4일   \n",
      "4             4         장수범     2  2025년 7월 17일   \n",
      "..          ...         ...   ...           ...   \n",
      "635         635        불면증잠     5  2023년 5월 25일   \n",
      "636         636         이재근     5   2025년 7월 3일   \n",
      "637         637     하와이내집마련     5  2025년 6월 22일   \n",
      "638         638         정재운     1  2023년 2월 21일   \n",
      "639         639         이현숙     1  2025년 6월 16일   \n",
      "\n",
      "                                               content  \n",
      "0    찜목록에서 특정가게 구경하고, 뒤로가기버튼으로 찜목록 돌아오면 스크롤이 맨위로 올라...  \n",
      "1    안녕하세요~ 처음 사용한 유저입니다. 리뷰올릴때 불편한점이 있습니다. 사진을 올릴때...  \n",
      "2    이제 2번째 사용을 해봤는데 아무래도 결제 부분이 나이가 조금 있으시거나 전화기 사...  \n",
      "3    정말 잘쓰고 있습니다 특히 지역화폐 이용 면에서 최고입니다 건의 드릴건이 있다면 자...  \n",
      "4    인터페이스 가게 메뉴 사진이 너무 큽니다. 한 화면어 가게 리스트도 몇개 안되고, ...  \n",
      "..                                                 ...  \n",
      "635  이번에 써보니 불편 없이 잘 되었어요 가게정렬에 가까운순이 있으면 좋겠고 만나서 결...  \n",
      "636                                   일단 한번 땡겨보시면 알아요.  \n",
      "637                                   쿠폰중복 사용 많아서 좋아요.  \n",
      "638  처음에는 룰렛을 통한 많은 할인과 포인트로 제일 많이 사용한 배달어플이였지만 최근에...  \n",
      "639  배달...30분내 도착이라고 해놓고 50분 걸림 안동시내를 다 돌다 왔는지 콜라에 ...  \n",
      "\n",
      "[640 rows x 5 columns]\n"
     ]
    }
   ],
   "source": [
    "df = pd.read_csv('C:\\\\walker\\\\code\\\\data-collector\\\\data\\\\dgy_sel.csv')\n",
    "print(df)"
   ]
  },
  {
   "cell_type": "code",
   "execution_count": null,
   "id": "9588c1b5",
   "metadata": {},
   "outputs": [
    {
     "name": "stdout",
     "output_type": "stream",
     "text": [
      "19\n",
      "{'reviewId': 'ca7f4767-a904-4a86-a64a-a03f5b360de9', 'userName': '지혜한', 'userImage': 'https://play-lh.googleusercontent.com/a/ACg8ocJw56hQYS8CP2HLbtlvI48Qd_tahnz7Mb3xVNOiMn9AFgr_hg=mo', 'content': '배달에서 포장으로 자동적으로 바꿔버리는 시스템 고쳐주세요. 배달 선택해서 배달 최저 가격까지 다 맞춰놓았는데 쿠폰 적용만 하면 자동적으로 바로 포장으로 바뀌는 게 매우 불편합니다. 덕분에 이 빗속에서 셀프배달 하게 되었네요. [포장으로 변경합니다. 이대로 진행하시겠습니까?] 같은 한마디의 시스템 경고만 넣어주셔도 좋을 것 같습니다.', 'score': 5, 'thumbsUpCount': 2, 'reviewCreatedVersion': '1.8.8', 'at': datetime.datetime(2025, 7, 17, 23, 14, 8), 'replyContent': None, 'repliedAt': None, 'appVersion': '1.8.8'}\n",
      "{'reviewId': 'f2a512da-d994-43de-acd1-a8a4c23b56df', 'userName': '상따', 'userImage': 'https://play-lh.googleusercontent.com/a/ACg8ocJ2mYrw9t6rje8GbuhR3UGubVPoyU2kbyfcuA9xmeX8rdbJVA=mo', 'content': '굿', 'score': 5, 'thumbsUpCount': 0, 'reviewCreatedVersion': '1.8.7', 'at': datetime.datetime(2025, 6, 26, 22, 21, 28), 'replyContent': None, 'repliedAt': None, 'appVersion': '1.8.7'}\n",
      "{'reviewId': 'b584c9d7-aed8-4586-be4e-f810393e1dee', 'userName': '인생한방', 'userImage': 'https://play-lh.googleusercontent.com/a/ACg8ocKeatEktYKtEeuKo0Jjt1Bmz5Rb6n1DP8pJ-8IGDLcOYSXmsg=mo', 'content': '경기페이되면서 쿠폰도 많고 좋아요', 'score': 5, 'thumbsUpCount': 0, 'reviewCreatedVersion': '1.8.7', 'at': datetime.datetime(2025, 6, 15, 20, 6, 5), 'replyContent': None, 'repliedAt': None, 'appVersion': '1.8.7'}\n",
      "{'reviewId': 'cd5a6e64-f3d5-459c-979f-f754bccdf34d', 'userName': '최진원', 'userImage': 'https://play-lh.googleusercontent.com/a-/ALV-UjXOyS7fTGP7hG5P2CGG_3e7wcXQl8E0lQzufiRjjqaLfn7LnpKHCg', 'content': '배달주문시 잘 사용하고 있어요', 'score': 5, 'thumbsUpCount': 0, 'reviewCreatedVersion': '1.8.2', 'at': datetime.datetime(2025, 3, 28, 13, 33, 52), 'replyContent': None, 'repliedAt': None, 'appVersion': '1.8.2'}\n",
      "{'reviewId': 'e2c579a7-933a-4311-819a-acf501cc2f72', 'userName': '이성환', 'userImage': 'https://play-lh.googleusercontent.com/a/ACg8ocJA5PUKKKWFkfipd0XmsuFlH1jicywFQtJ-XNElwL-Dm9_MWA=mo', 'content': '할인 혜택이 있어서 편리 하였습니다', 'score': 5, 'thumbsUpCount': 0, 'reviewCreatedVersion': '1.8.2', 'at': datetime.datetime(2025, 3, 26, 23, 55, 1), 'replyContent': None, 'repliedAt': None, 'appVersion': '1.8.2'}\n",
      "{'reviewId': 'f3ea2d04-4635-4b20-8403-d0523e9e3c52', 'userName': 'Geon', 'userImage': 'https://play-lh.googleusercontent.com/a/ACg8ocIKUukVyp-u4Gc1Q5zlYzB1gdRdz9mo72Z1_u-RYRjkkaYbo4k=mo', 'content': '온누리상품권 사용할수 있다고 하는데, 사용가능한 가게들을 필터링해서 볼수있으면 좋겠습니다 안그래도 몇군데 없는데, 사용가능한곳 찾으려고 스크롤을 계속 내려야 1-2개 나올까 말까해서 불편해요', 'score': 5, 'thumbsUpCount': 0, 'reviewCreatedVersion': '1.7.9', 'at': datetime.datetime(2025, 1, 28, 22, 27, 35), 'replyContent': None, 'repliedAt': None, 'appVersion': '1.7.9'}\n",
      "{'reviewId': '5cc0c5a8-5c15-49e0-bf5a-371934b3bd1a', 'userName': '카페인중독', 'userImage': 'https://play-lh.googleusercontent.com/a/ACg8ocLDqQ-x98AzB9n1gF3T9SBYJbKhyGs9AupqTUwFO50GU-DnB64=mo', 'content': '앱 사용성은 좋습니다. 다만 제가 입력한 주소에서 아예 배달이 되지 않을 정도로 먼 가게가 조회되는건 매우 혼란스러운 일입니다. 주문을 했다가 취소되어서 이유를 확인해봤더니 무려 지하철로 1시간 거리의 가게였더군요. 이런점은 조치가 필요해보입니다.', 'score': 3, 'thumbsUpCount': 1, 'reviewCreatedVersion': '1.7.3', 'at': datetime.datetime(2024, 10, 15, 20, 49, 33), 'replyContent': None, 'repliedAt': None, 'appVersion': '1.7.3'}\n",
      "{'reviewId': '96dd387b-cf68-4021-8853-9ed24f5ae4a4', 'userName': 'J J', 'userImage': 'https://play-lh.googleusercontent.com/a/ACg8ocLKzv3HLV498Eg8ZXF4MN2skpy8_GEzfgntX8jIkBdfJS6BUg=mo', 'content': 'V3 필수', 'score': 1, 'thumbsUpCount': 0, 'reviewCreatedVersion': '1.6.7', 'at': datetime.datetime(2024, 6, 6, 15, 19, 6), 'replyContent': None, 'repliedAt': None, 'appVersion': '1.6.7'}\n",
      "{'reviewId': '9547d23d-bd21-43f5-b3ed-e181ca071fe5', 'userName': 'JH K', 'userImage': 'https://play-lh.googleusercontent.com/a-/ALV-UjU0MXQZkB3ap5F8s4CfntwnTGgrOFWvfnRA5ObDqEsOocHVdnFTfw', 'content': '위치 설정 허용해도 위치를 찾을 수 없다고 위치서비스를 키라는 팝업창만 계속 뜹니다. 빠른 수정 부탁드려요.', 'score': 3, 'thumbsUpCount': 0, 'reviewCreatedVersion': '1.6.7', 'at': datetime.datetime(2024, 5, 27, 14, 0, 52), 'replyContent': '안녕하세요 김재혁 고객님, 땡겨요입니다.\\n\\n땡겨요는 고객님들의 의견을 존중하고 반영하여 좀 더 나은 플랫폼이 되기 위하여 열심히 고민하고 있습니다.\\n말씀 주신 불편사항은 개선해나가도록 항상 노력하는 땡겨요가 되겠습니다. 감사합니다.\\n\\n신한은행 배달앱 땡겨요 드림.', 'repliedAt': datetime.datetime(2024, 6, 14, 16, 46, 57), 'appVersion': '1.6.7'}\n",
      "{'reviewId': '3a48e231-531a-40cc-abe0-b1fe9eadeb9e', 'userName': '김인애', 'userImage': 'https://play-lh.googleusercontent.com/a/ACg8ocKEchFXZn96e6IkOieE1W1ozCNAqsHWNeBocFxKeEZwx1ixTyFy=mo', 'content': '땡겨요 운영시간 연장하면 좋겠어요', 'score': 5, 'thumbsUpCount': 0, 'reviewCreatedVersion': '1.4.4', 'at': datetime.datetime(2023, 5, 27, 0, 23, 21), 'replyContent': '김인애님,\\n안녕하세요. 땡겨요입니다.\\n\\n소중한 리뷰 남겨주셔서 감사드립니다.\\n24시간 운영하는 가게임에도 땡겨요 앱에서는 오전7시~자정12시까지 주문, 결제가 가능합니다.\\n\\n현재 고객센터 운영시간이 오전7시~새벽1시까지만 운영되고 있어서 앱이용 시간이 정해져 있는 점 양해부탁드립니다.\\n\\n더 나은 서비스를 제공하기 위해 최선을 다하겠습니다.\\n감사합니다.', 'repliedAt': datetime.datetime(2023, 5, 30, 13, 11, 19), 'appVersion': '1.4.4'}\n",
      "{'reviewId': 'e0a9b03d-56fa-4bfc-9e45-6aec2cf5dab5', 'userName': '박경리', 'userImage': 'https://play-lh.googleusercontent.com/a-/ALV-UjWkC55ns9a16ULIwqSD9rJHwVGSlmiB2CBcjArrXSL-Xjof7q_QuQ', 'content': '앱이 안열려요..! 수십번 껐다키고 업데이트해도 안열리길래 앱 제거하고 다시 다운받았는데도 안열려요. 어떻게 쓰죠?', 'score': 3, 'thumbsUpCount': 0, 'reviewCreatedVersion': '1.4.2', 'at': datetime.datetime(2023, 4, 16, 9, 35, 11), 'replyContent': '박경리님,\\n안녕하세요. 땡겨요입니다.\\n\\n서비스 이용에 불편을 겪으신 것 같아 마음이 무겁습니다.\\n\\n앱 삭제 후 재설치해도 앱사용이 안된다면 고객님의 사용환경, 폰 특성 등의 추가적인 확인이 필요할 것으로 사료됩니다.\\n\\n번거로우시겠지만, 땡겨요 고객센터(1661-5489)로 위 내용 및 구체적인 상황 말씀부탁드립니다.\\n\\n정확히 확인하고 안내드릴 수 있도록 하겠습니다.\\n다시 한번 이용에 불편을 드려 죄송한 말씀드립니다.', 'repliedAt': datetime.datetime(2023, 4, 17, 14, 19, 46), 'appVersion': '1.4.2'}\n",
      "{'reviewId': '4ab02b7a-91e9-4ada-874c-c40845383c7b', 'userName': 'M Pak', 'userImage': 'https://play-lh.googleusercontent.com/a/ACg8ocL_KeIdFkErVM5bcLK5bTyenUiSC0njKcButXF7GsomjGwhKA=mo', 'content': '사장님이 땡겨주는 할인에서 스크롤 후 가게 눌렀다가 뒤로가기 누르면 다시 맨 위로 가있음.. 하.... 무슨 대학생 앱개발 과제도 아니고.. 개발자 하기 참 쉽죠잉~', 'score': 2, 'thumbsUpCount': 0, 'reviewCreatedVersion': '1.3.7', 'at': datetime.datetime(2023, 1, 20, 19, 37, 15), 'replyContent': 'M Pak님,\\n안녕하세요. 땡겨요입니다.\\n땡겨요 이용에 만족을 드리지 못해 마음이 무겁습니다.\\n\\n고객님의 입장에서 불편하셨을 마음이 공감이 됩니다.\\n말씀해주신 이동동선 플로우 개선 관련하여 순차적으로 진행할 예정입니다.\\n\\n앞으로도 소중한 의견에 대해 정확하게 확인하고 도움드릴 수 있도록 노력하겠습니다.\\n\\n감사합니다.', 'repliedAt': datetime.datetime(2023, 1, 25, 14, 55, 52), 'appVersion': '1.3.7'}\n",
      "{'reviewId': 'ffd15f36-aa8c-4303-9398-e93505d96b7d', 'userName': 'KYEONGHA JANG', 'userImage': 'https://play-lh.googleusercontent.com/a-/ALV-UjUte8VzUWgZipkYHoNAchTwGXfo6zvJe34sSzDqrSKuYo9gM-xY', 'content': '소비자나 가맹점에 양쪽으로 이득을 많이주는 앱이라서 좋았네요 앱으로 유명 매장들을 할인받고 배달할 수 있다는 점이 좋아요~', 'score': 3, 'thumbsUpCount': 2, 'reviewCreatedVersion': '1.2.8', 'at': datetime.datetime(2022, 10, 4, 20, 6, 1), 'replyContent': 'KAYLA JANG님,\\n안녕하세요. 땡겨요입니다.\\n\\n땡겨요를 이용해주시고, 소중한 의견 주셔서 감사합니다.\\n\\n앞으로 더욱 만족스러운 경험을 제공해드리기 위해 최선을 다하겠습니다.\\n감사합니다.', 'repliedAt': datetime.datetime(2022, 10, 5, 16, 12, 52), 'appVersion': '1.2.8'}\n",
      "{'reviewId': '8b7bb63c-4f67-493d-9fea-b8f1b203b780', 'userName': 'bluemoon7744', 'userImage': 'https://play-lh.googleusercontent.com/a-/ALV-UjXKfkhlPHdDRrVpJaxEdwhzvNbOTUWoxyFOizOxKLIFOsLyFiTt', 'content': '할인 많이 주는 건 좋은데, 애초에 음식점들이 가격을 비싸게 해놔서 별 의미가 없네요.', 'score': 3, 'thumbsUpCount': 0, 'reviewCreatedVersion': None, 'at': datetime.datetime(2022, 9, 29, 16, 34, 34), 'replyContent': 'bluemoon7744님,\\n안녕하세요. 땡겨요입니다.\\n\\n땡겨요 서비스에 아쉬움을 느끼신 것 같아 마음이 무겁습니다.\\n\\n땡겨요에 입점된 가게의 메뉴가격과 최소주문금액은 가게 자체 정책 혹은 프랜차이즈 본사 정책에 의해 설정된 금액입니다.\\n따라서 땡겨요가 가게 메뉴 가격과 최소주문금액에 직접 관여하기 어려운 점 양해 부탁드립니다.\\n\\n다만, 고객님의 만족스러운 서비스 이용을 위해 다양한 혜택을 드릴 수 있도록 더욱 노력하겠습니다.\\n\\n소중한 리뷰 남겨주셔서 감사드립니다.', 'repliedAt': datetime.datetime(2022, 9, 30, 15, 36, 22), 'appVersion': None}\n",
      "{'reviewId': '51663776-c258-47d3-bd84-bda1fa49134a', 'userName': '도연수', 'userImage': 'https://play-lh.googleusercontent.com/a/ACg8ocJ4js4ZtHWF1YO23vhA-EMpb9_TnYE53aGsISlvPp7o3qOjQA=mo', 'content': '잘 쓰는 중입니다. 광진구에 산다면 써야댐', 'score': 5, 'thumbsUpCount': 0, 'reviewCreatedVersion': '1.2.7', 'at': datetime.datetime(2022, 9, 27, 21, 6, 46), 'replyContent': None, 'repliedAt': None, 'appVersion': '1.2.7'}\n",
      "{'reviewId': '31629146-810f-4b80-a92b-493d2ae7fdf1', 'userName': '¡ᒷᔑꖌ𒈙𒐫꧍𒈙𒐫¡ᒷᔑꖌ𒈙꧄𒈙I𒈙𒈙ꧥ𒈙L𒈙ᔑᒷᔑꖌ𒈙𒐫꧍𒈙𒐫¡ᒷᔑꖌ𒈙꧄𒈙I𒈙𒈙ꧥ', 'userImage': 'https://play-lh.googleusercontent.com/a-/ALV-UjXmZUVyJ36JLxOZPFCk6bZ0ismKcl3LiRfAwr2GRBzJImBnleof', 'content': '계속 지웠다 설치해도 실행하면 튕김 앱이 너무 안정성이 없는것 같은데 올리려면 버그 테스트하고 올려라', 'score': 1, 'thumbsUpCount': 0, 'reviewCreatedVersion': None, 'at': datetime.datetime(2022, 9, 11, 12, 27, 1), 'replyContent': '고객님,\\n안녕하세요. 땡겨요입니다.\\n\\n땡겨요 서비스 이용에 불편을 겪으신 것 같아 마음이 무겁습니다.\\n땡겨요 내부에서 지속적인 업데이트를 통해 개선해 나갈 수 있도록 하겠습니다.\\n\\n이용에 불편을 드려 다시 한번 죄송한 말씀드립니다.', 'repliedAt': datetime.datetime(2022, 9, 21, 15, 18, 17), 'appVersion': None}\n",
      "{'reviewId': '3ec6d6d9-3eba-46b6-9eb4-13e1e79fc05a', 'userName': 'Ina Hwang', 'userImage': 'https://play-lh.googleusercontent.com/a/ACg8ocLv1RYJl-3mnRCeTubUEmzsDrmTauXaUjobmLOnfY8XMN0wow=mo', 'content': '배민에서 하면 주문되는데, 땡겨요에서 하면 가게에서 다 주문 취소함', 'score': 1, 'thumbsUpCount': 4, 'reviewCreatedVersion': '1.2.6', 'at': datetime.datetime(2022, 7, 31, 13, 17, 49), 'replyContent': None, 'repliedAt': None, 'appVersion': '1.2.6'}\n",
      "{'reviewId': 'bd33596b-c51e-46f0-9b8a-ad1c4f7903a1', 'userName': '짭쿠아', 'userImage': 'https://play-lh.googleusercontent.com/a-/ALV-UjX9Z9pdhGvWDtYV6nHuqal7GaWQ1IOaKsS6NZeinpYioHgUA6-k7g', 'content': '동영상 올리면 리뷰 포인트 더 준다는데 동영상 못 올리게 만들어 두었네요 나참', 'score': 1, 'thumbsUpCount': 6, 'reviewCreatedVersion': '1.2.0', 'at': datetime.datetime(2022, 6, 26, 1, 5, 3), 'replyContent': None, 'repliedAt': None, 'appVersion': '1.2.0'}\n",
      "{'reviewId': '3ef7cdba-b3f4-4ccd-ac3f-d1d7fb18e4c6', 'userName': 'mark Jung', 'userImage': 'https://play-lh.googleusercontent.com/a/ACg8ocIwp2S61AyNqEyfhGUqpsPlrVP5agq-EgtlELOpMKFVIfaNRQ=mo', 'content': '앱이 너무 못만들었음.. 별 1점도 아까움 속도 느리고, 발적화에 맵이동할 때마다 왜 갱신되는지', 'score': 1, 'thumbsUpCount': 2, 'reviewCreatedVersion': '1.1.7', 'at': datetime.datetime(2022, 5, 20, 13, 32, 4), 'replyContent': None, 'repliedAt': None, 'appVersion': '1.1.7'}\n"
     ]
    }
   ],
   "source": [
    "# google_play_scraper 활용(19개만 나옴)\n",
    "\n",
    "from google_play_scraper import reviews_all\n",
    "\n",
    "result = reviews_all(\n",
    "    'com.shinhan.o2o'  # 땡겨요\n",
    ")\n",
    "\n",
    "print(len(result))\n",
    "\n",
    "for r in result:\n",
    "    print(r)"
   ]
  }
 ],
 "metadata": {
  "kernelspec": {
   "display_name": "data-collector",
   "language": "python",
   "name": "python3"
  },
  "language_info": {
   "codemirror_mode": {
    "name": "ipython",
    "version": 3
   },
   "file_extension": ".py",
   "mimetype": "text/x-python",
   "name": "python",
   "nbconvert_exporter": "python",
   "pygments_lexer": "ipython3",
   "version": "3.13.5"
  }
 },
 "nbformat": 4,
 "nbformat_minor": 5
}
