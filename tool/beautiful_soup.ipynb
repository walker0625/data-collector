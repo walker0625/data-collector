{
 "cells": [
  {
   "cell_type": "markdown",
   "id": "ef558008",
   "metadata": {},
   "source": [
    "# 테스트"
   ]
  },
  {
   "cell_type": "code",
   "execution_count": 7,
   "id": "47ef9b56",
   "metadata": {},
   "outputs": [
    {
     "data": {
      "text/plain": [
       "<div class=\"title\">타이틀1</div>"
      ]
     },
     "execution_count": 7,
     "metadata": {},
     "output_type": "execute_result"
    }
   ],
   "source": [
    "from bs4 import BeautifulSoup\n",
    "\n",
    "html = \"\"\"\n",
    "<html>\n",
    "  <body>\n",
    "    <div id=\"main\" class=\"content\">\n",
    "      <h1>첫 번째 헤더</h1>\n",
    "      <h1 class=\"header\">두 번째 헤더</h1>\n",
    "      <p class=\"description\">설명입니다.</p>\n",
    "      <a href=\"https://example1.com\" class=\"link\">링크 1</a>\n",
    "      <a href=\"https://example2.com\" class=\"link\">링크 2</a>\n",
    "      <a href=\"https://example3.com\" class=\"external\">링크 3</a>\n",
    "    </div>\n",
    "    <div id=\"main2\" class=\"content\">\n",
    "      <div class=\"items\">\n",
    "        <div>\n",
    "            <img class=\"thumbnail\" src=\"/data/picture1.png\" />\n",
    "            <div class=\"title\">타이틀1</div>\n",
    "            <div class=\"description\">설명1</div>\n",
    "        </div>\n",
    "        <div>\n",
    "            <img class=\"thumbnail\" src=\"/data/picture2.png\" />\n",
    "            <div class=\"title\">타이틀2</div>\n",
    "            <div class=\"description\">설명2</div>\n",
    "        </div>\n",
    "        <div>\n",
    "            <img class=\"thumbnail\" src=\"/data/picture3.png\" />\n",
    "            <div class=\"title test\">타이틀3</div>\n",
    "            <div class=\"description\">설명3</div>\n",
    "        </div>\n",
    "      </div>\n",
    "    </div>\n",
    "  </body>\n",
    "</html>\n",
    "\"\"\"\n",
    "\n",
    "# 특정하지 않으면 처음 한개만 추출된\n",
    "soup = BeautifulSoup(html, 'html.parser')\n",
    "soup.find('div', class_='title')"
   ]
  },
  {
   "cell_type": "code",
   "execution_count": null,
   "id": "13004d7d",
   "metadata": {},
   "outputs": [
    {
     "data": {
      "text/plain": [
       "<img class=\"thumbnail\" src=\"/data/picture1.png\"/>"
      ]
     },
     "execution_count": 8,
     "metadata": {},
     "output_type": "execute_result"
    }
   ],
   "source": [
    "#첫번째 img 추출(둘 다 같음)\n",
    "soup.find('img')\n",
    "soup.find('img', src='/data/picture1.png')"
   ]
  },
  {
   "cell_type": "code",
   "execution_count": 10,
   "id": "c2cb45ba",
   "metadata": {},
   "outputs": [
    {
     "data": {
      "text/plain": [
       "[<div class=\"title\">타이틀1</div>,\n",
       " <div class=\"title\">타이틀2</div>,\n",
       " <div class=\"title test\">타이틀3</div>]"
      ]
     },
     "execution_count": 10,
     "metadata": {},
     "output_type": "execute_result"
    }
   ],
   "source": [
    "# class가 title인 div를 모두 추출해주세요\n",
    "soup.find_all(\"div\", class_=\"title\")"
   ]
  },
  {
   "cell_type": "code",
   "execution_count": 11,
   "id": "dcfbaccf",
   "metadata": {},
   "outputs": [
    {
     "name": "stdout",
     "output_type": "stream",
     "text": [
      "<div>\n",
      "<img class=\"thumbnail\" src=\"/data/picture1.png\"/>\n",
      "<div class=\"title\">타이틀1</div>\n",
      "<div class=\"description\">설명1</div>\n",
      "</div>\n",
      "---\n",
      "<div class=\"title\">타이틀1</div>\n",
      "---\n",
      "<div class=\"description\">설명1</div>\n",
      "---\n",
      "<div>\n",
      "<img class=\"thumbnail\" src=\"/data/picture2.png\"/>\n",
      "<div class=\"title\">타이틀2</div>\n",
      "<div class=\"description\">설명2</div>\n",
      "</div>\n",
      "---\n",
      "<div class=\"title\">타이틀2</div>\n",
      "---\n",
      "<div class=\"description\">설명2</div>\n",
      "---\n",
      "<div>\n",
      "<img class=\"thumbnail\" src=\"/data/picture3.png\"/>\n",
      "<div class=\"title test\">타이틀3</div>\n",
      "<div class=\"description\">설명3</div>\n",
      "</div>\n",
      "---\n",
      "<div class=\"title test\">타이틀3</div>\n",
      "---\n",
      "<div class=\"description\">설명3</div>\n",
      "---\n"
     ]
    }
   ],
   "source": [
    "# class가 items인 div 안의 div들을 모두 추출해주세요\n",
    "# class가 items > div를 가져온다.\n",
    "items = soup.find(\"div\", class_=\"items\")\n",
    "div_list = items.find_all(\"div\")\n",
    "for div in div_list:\n",
    "    print(div)\n",
    "    print(\"---\")"
   ]
  },
  {
   "cell_type": "code",
   "execution_count": null,
   "id": "cc78c341",
   "metadata": {},
   "outputs": [
    {
     "name": "stdout",
     "output_type": "stream",
     "text": [
      "{'class': ['thumbnail'], 'src': '/data/picture1.png'}\n"
     ]
    },
    {
     "ename": "KeyError",
     "evalue": "'test'",
     "output_type": "error",
     "traceback": [
      "\u001b[31m---------------------------------------------------------------------------\u001b[39m",
      "\u001b[31mKeyError\u001b[39m                                  Traceback (most recent call last)",
      "\u001b[36mCell\u001b[39m\u001b[36m \u001b[39m\u001b[32mIn[14]\u001b[39m\u001b[32m, line 3\u001b[39m\n\u001b[32m      1\u001b[39m \u001b[38;5;66;03m# img 태그에서 src를 추출해주세요\u001b[39;00m\n\u001b[32m      2\u001b[39m \u001b[38;5;28mprint\u001b[39m(soup.find(\u001b[33m\"\u001b[39m\u001b[33mimg\u001b[39m\u001b[33m\"\u001b[39m).attrs) \u001b[38;5;66;03m# dict 형태로 추출\u001b[39;00m\n\u001b[32m----> \u001b[39m\u001b[32m3\u001b[39m \u001b[38;5;28mprint\u001b[39m(\u001b[43msoup\u001b[49m\u001b[43m.\u001b[49m\u001b[43mfind\u001b[49m\u001b[43m(\u001b[49m\u001b[33;43m\"\u001b[39;49m\u001b[33;43mimg\u001b[39;49m\u001b[33;43m\"\u001b[39;49m\u001b[43m)\u001b[49m\u001b[43m.\u001b[49m\u001b[43mattrs\u001b[49m\u001b[43m[\u001b[49m\u001b[33;43m\"\u001b[39;49m\u001b[33;43mtest\u001b[39;49m\u001b[33;43m\"\u001b[39;49m\u001b[43m]\u001b[49m)\n\u001b[32m      4\u001b[39m \u001b[38;5;28mprint\u001b[39m(soup.find(\u001b[33m\"\u001b[39m\u001b[33mimg\u001b[39m\u001b[33m\"\u001b[39m).get(\u001b[33m\"\u001b[39m\u001b[33mtest\u001b[39m\u001b[33m\"\u001b[39m)) \n\u001b[32m      5\u001b[39m \u001b[38;5;28mprint\u001b[39m(soup.find(\u001b[33m\"\u001b[39m\u001b[33mimg\u001b[39m\u001b[33m\"\u001b[39m)[\u001b[33m\"\u001b[39m\u001b[33msrc\u001b[39m\u001b[33m\"\u001b[39m])\n",
      "\u001b[31mKeyError\u001b[39m: 'test'"
     ]
    }
   ],
   "source": [
    "# img 태그에서 src를 추출\n",
    "print(soup.find(\"img\").attrs) # dict 형태로 추출\n",
    "print(soup.find(\"img\").attrs[\"src\"])\n",
    "print(soup.find(\"img\").get(\"src\")) # 에러가 발생하지 않음 => None 응답\n",
    "print(soup.find(\"img\")[\"src\"])"
   ]
  },
  {
   "cell_type": "code",
   "execution_count": null,
   "id": "6d42271b",
   "metadata": {},
   "outputs": [],
   "source": []
  }
 ],
 "metadata": {
  "kernelspec": {
   "display_name": "data-collector",
   "language": "python",
   "name": "python3"
  },
  "language_info": {
   "codemirror_mode": {
    "name": "ipython",
    "version": 3
   },
   "file_extension": ".py",
   "mimetype": "text/x-python",
   "name": "python",
   "nbconvert_exporter": "python",
   "pygments_lexer": "ipython3",
   "version": "3.13.5"
  }
 },
 "nbformat": 4,
 "nbformat_minor": 5
}
