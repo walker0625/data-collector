{
 "cells": [
  {
   "cell_type": "markdown",
   "id": "ef558008",
   "metadata": {},
   "source": [
    "# 테스트"
   ]
  },
  {
   "cell_type": "code",
   "execution_count": 32,
   "id": "47ef9b56",
   "metadata": {},
   "outputs": [
    {
     "data": {
      "text/plain": [
       "<div class=\"title\" id=\"title1\">타이틀1</div>"
      ]
     },
     "execution_count": 32,
     "metadata": {},
     "output_type": "execute_result"
    }
   ],
   "source": [
    "from bs4 import BeautifulSoup\n",
    "import pandas as pd\n",
    "\n",
    "html = \"\"\"\n",
    "<html>\n",
    "  <body>\n",
    "    <div id=\"main\" class=\"content\">\n",
    "      <h1>첫 번째 헤더</h1>\n",
    "      <h1 class=\"header\">두 번째 헤더</h1>\n",
    "      <p class=\"description\">설명입니다.</p>\n",
    "      <a href=\"https://example1.com\" class=\"link\">링크 1</a>\n",
    "      <a href=\"https://example2.com\" class=\"link\">링크 2</a>\n",
    "      <a href=\"https://example3.com\" class=\"external\">링크 3</a>\n",
    "    </div>\n",
    "    <div id=\"main2\" class=\"content\">\n",
    "      <div class=\"items\">\n",
    "        <div>\n",
    "            <img class=\"thumbnail\" src=\"/data/picture1.png\" />\n",
    "            <div id=\"title1\" class=\"title\">타이틀1</div>\n",
    "            <div class=\"description\">설명1</div>\n",
    "        </div>\n",
    "        <div>\n",
    "            <img class=\"thumbnail\" src=\"/data/picture2.png\" />\n",
    "            <div class=\"title\">타이틀2</div>\n",
    "            <div class=\"description\">설명2</div>\n",
    "        </div>\n",
    "        <div>\n",
    "            <img class=\"thumbnail\" src=\"/data/picture3.png\" />\n",
    "            <div class=\"title test\">타이틀3</div>\n",
    "            <div class=\"description\">설명3</div>\n",
    "        </div>\n",
    "      </div>\n",
    "    </div>\n",
    "  </body>\n",
    "</html>\n",
    "\"\"\"\n",
    "\n",
    "# 특정하지 않으면 처음 한개만 추출된\n",
    "soup = BeautifulSoup(html, 'html.parser')\n",
    "soup.find('div', class_='title')"
   ]
  },
  {
   "cell_type": "code",
   "execution_count": 3,
   "id": "13004d7d",
   "metadata": {},
   "outputs": [
    {
     "data": {
      "text/plain": [
       "<img class=\"thumbnail\" src=\"/data/picture1.png\"/>"
      ]
     },
     "execution_count": 3,
     "metadata": {},
     "output_type": "execute_result"
    }
   ],
   "source": [
    "#첫번째 img 추출(둘 다 같음)\n",
    "soup.find('img')\n",
    "soup.find('img', src='/data/picture1.png')"
   ]
  },
  {
   "cell_type": "code",
   "execution_count": null,
   "id": "c2cb45ba",
   "metadata": {},
   "outputs": [
    {
     "data": {
      "text/plain": [
       "[<div class=\"title\">타이틀1</div>,\n",
       " <div class=\"title\">타이틀2</div>,\n",
       " <div class=\"title test\">타이틀3</div>]"
      ]
     },
     "execution_count": 4,
     "metadata": {},
     "output_type": "execute_result"
    }
   ],
   "source": [
    "# class가 title인 div를 모두 추출\n",
    "soup.find_all(\"div\", class_=\"title\")"
   ]
  },
  {
   "cell_type": "code",
   "execution_count": 15,
   "id": "dcfbaccf",
   "metadata": {},
   "outputs": [
    {
     "name": "stdout",
     "output_type": "stream",
     "text": [
      "<div>\n",
      "<img class=\"thumbnail\" src=\"/data/picture1.png\"/>\n",
      "<div class=\"title\">타이틀1</div>\n",
      "<div class=\"description\">설명1</div>\n",
      "</div>\n",
      "---\n",
      "<div class=\"title\">타이틀1</div>\n",
      "---\n",
      "<div class=\"description\">설명1</div>\n",
      "---\n",
      "<div>\n",
      "<img class=\"thumbnail\" src=\"/data/picture2.png\"/>\n",
      "<div class=\"title\">타이틀2</div>\n",
      "<div class=\"description\">설명2</div>\n",
      "</div>\n",
      "---\n",
      "<div class=\"title\">타이틀2</div>\n",
      "---\n",
      "<div class=\"description\">설명2</div>\n",
      "---\n",
      "<div>\n",
      "<img class=\"thumbnail\" src=\"/data/picture3.png\"/>\n",
      "<div class=\"title test\">타이틀3</div>\n",
      "<div class=\"description\">설명3</div>\n",
      "</div>\n",
      "---\n",
      "<div class=\"title test\">타이틀3</div>\n",
      "---\n",
      "<div class=\"description\">설명3</div>\n",
      "---\n"
     ]
    }
   ],
   "source": [
    "# class가 items인 div 안의 div들을 모두 추출\n",
    "# class가 items > div를 가져온다.\n",
    "items = soup.find(\"div\", class_=\"items\")\n",
    "div_list = items.find_all(\"div\")\n",
    "for div in div_list:\n",
    "    print(div)\n",
    "    print(\"---\")"
   ]
  },
  {
   "cell_type": "code",
   "execution_count": 16,
   "id": "cc78c341",
   "metadata": {},
   "outputs": [
    {
     "name": "stdout",
     "output_type": "stream",
     "text": [
      "{'class': ['thumbnail'], 'src': '/data/picture1.png'}\n",
      "/data/picture1.png\n",
      "/data/picture1.png\n",
      "/data/picture1.png\n"
     ]
    }
   ],
   "source": [
    "# img 태그에서 src를 추출\n",
    "print(soup.find(\"img\").attrs) # dict 형태로 추출\n",
    "print(soup.find(\"img\").attrs[\"src\"])\n",
    "print(soup.find(\"img\").get(\"src\")) # 에러가 발생하지 않음 => None 응답\n",
    "print(soup.find(\"img\")[\"src\"])"
   ]
  },
  {
   "cell_type": "code",
   "execution_count": 28,
   "id": "6d42271b",
   "metadata": {},
   "outputs": [
    {
     "name": "stdout",
     "output_type": "stream",
     "text": [
      "[<div>\n",
      "<img class=\"thumbnail\" src=\"/data/picture1.png\"/>\n",
      "<div class=\"title\">타이틀1</div>\n",
      "<div class=\"description\">설명1</div>\n",
      "</div>, <div>\n",
      "<img class=\"thumbnail\" src=\"/data/picture2.png\"/>\n",
      "<div class=\"title\">타이틀2</div>\n",
      "<div class=\"description\">설명2</div>\n",
      "</div>, <div>\n",
      "<img class=\"thumbnail\" src=\"/data/picture3.png\"/>\n",
      "<div class=\"title test\">타이틀3</div>\n",
      "<div class=\"description\">설명3</div>\n",
      "</div>]\n",
      "==================================================\n",
      "{'image': '/data/picture1.png', 'title': '타이틀1', 'description': '설명1'}\n",
      "==================================================\n",
      "{'image': '/data/picture2.png', 'title': '타이틀2', 'description': '설명2'}\n",
      "==================================================\n",
      "{'image': '/data/picture3.png', 'title': '타이틀3', 'description': '설명3'}\n",
      "==================================================\n"
     ]
    },
    {
     "data": {
      "text/html": [
       "<div>\n",
       "<style scoped>\n",
       "    .dataframe tbody tr th:only-of-type {\n",
       "        vertical-align: middle;\n",
       "    }\n",
       "\n",
       "    .dataframe tbody tr th {\n",
       "        vertical-align: top;\n",
       "    }\n",
       "\n",
       "    .dataframe thead th {\n",
       "        text-align: right;\n",
       "    }\n",
       "</style>\n",
       "<table border=\"1\" class=\"dataframe\">\n",
       "  <thead>\n",
       "    <tr style=\"text-align: right;\">\n",
       "      <th></th>\n",
       "      <th>image</th>\n",
       "      <th>title</th>\n",
       "      <th>description</th>\n",
       "    </tr>\n",
       "  </thead>\n",
       "  <tbody>\n",
       "    <tr>\n",
       "      <th>0</th>\n",
       "      <td>/data/picture1.png</td>\n",
       "      <td>타이틀1</td>\n",
       "      <td>설명1</td>\n",
       "    </tr>\n",
       "    <tr>\n",
       "      <th>1</th>\n",
       "      <td>/data/picture2.png</td>\n",
       "      <td>타이틀2</td>\n",
       "      <td>설명2</td>\n",
       "    </tr>\n",
       "    <tr>\n",
       "      <th>2</th>\n",
       "      <td>/data/picture3.png</td>\n",
       "      <td>타이틀3</td>\n",
       "      <td>설명3</td>\n",
       "    </tr>\n",
       "  </tbody>\n",
       "</table>\n",
       "</div>"
      ],
      "text/plain": [
       "                image title description\n",
       "0  /data/picture1.png  타이틀1         설명1\n",
       "1  /data/picture2.png  타이틀2         설명2\n",
       "2  /data/picture3.png  타이틀3         설명3"
      ]
     },
     "execution_count": 28,
     "metadata": {},
     "output_type": "execute_result"
    }
   ],
   "source": [
    "items_html = soup.find('div', class_='items')\n",
    "\n",
    "div_outputs = items_html.find_all(\"div\", recursive=False)\n",
    "\n",
    "print(div_outputs)\n",
    "print(\"=\"*50)\n",
    "\n",
    "data_list = []\n",
    "\n",
    "for output in div_outputs:\n",
    "    \n",
    "    temp_dict = {}\n",
    "    temp_dict[\"image\"] = output.find(\"img\", class_=\"thumbnail\").attrs.get(\"src\")\n",
    "    temp_dict[\"title\"] = output.find(\"div\", class_=\"title\").text\n",
    "    temp_dict[\"description\"] = output.find(\"div\", class_=\"description\").text\n",
    "    \n",
    "    data_list.append(temp_dict)\n",
    "    \n",
    "    print(temp_dict)\n",
    "    print(\"=\"*50)\n",
    "    \n",
    "    data = pd.DataFrame(data_list)\n",
    "data"
   ]
  },
  {
   "cell_type": "code",
   "execution_count": null,
   "id": "af44386b",
   "metadata": {},
   "outputs": [
    {
     "data": {
      "text/plain": [
       "<div class=\"title\" id=\"title1\">타이틀1</div>"
      ]
     },
     "execution_count": 34,
     "metadata": {},
     "output_type": "execute_result"
    }
   ],
   "source": [
    "soup.select_one('#title1') # 단일 선택"
   ]
  },
  {
   "cell_type": "code",
   "execution_count": null,
   "id": "7ecd0c13",
   "metadata": {},
   "outputs": [
    {
     "data": {
      "text/plain": [
       "[<div class=\"title\" id=\"title1\">타이틀1</div>,\n",
       " <div class=\"title\">타이틀2</div>,\n",
       " <div class=\"title test\">타이틀3</div>]"
      ]
     },
     "execution_count": 37,
     "metadata": {},
     "output_type": "execute_result"
    }
   ],
   "source": [
    "soup.select('.title') # 복수 선택"
   ]
  },
  {
   "cell_type": "code",
   "execution_count": null,
   "id": "47ac9554",
   "metadata": {},
   "outputs": [
    {
     "data": {
      "text/plain": [
       "[<div>\n",
       " <img class=\"thumbnail\" src=\"/data/picture3.png\"/>\n",
       " <div class=\"title test\">타이틀3</div>\n",
       " <div class=\"description\">설명3</div>\n",
       " </div>]"
      ]
     },
     "execution_count": 38,
     "metadata": {},
     "output_type": "execute_result"
    }
   ],
   "source": [
    "soup.select('div.items > div:nth-child(3)') # 자식요소 선택"
   ]
  },
  {
   "cell_type": "markdown",
   "id": "8fe85887",
   "metadata": {},
   "source": [
    "# 교보문고 크롤링"
   ]
  },
  {
   "cell_type": "code",
   "execution_count": null,
   "id": "03a1d658",
   "metadata": {},
   "outputs": [
    {
     "name": "stdout",
     "output_type": "stream",
     "text": [
      "예약판매\n",
      "인공지능입문\n",
      "예약판매\n",
      "인공지능과 죽음\n",
      "된다! 하루 만에 끝내는 챗GPT 활용법\n",
      "AI 리터러시: 인공지능 필수 지식부터 완벽 활용까지\n",
      "MCP로 똑똑하게 일하는 법\n",
      "비전공자도 이해할 수 있는 AI 지식(10만부 기념 개정판)\n",
      "김대식 교수의 어린이를 위한 인공지능 : 메타버스부터 챗GPT까지\n",
      "혼자 공부하는 머신러닝+딥러닝\n",
      "서울대학교 AI융합교육학과 인공지능 수업 가이드\n",
      "Google로 칼퇴하는 교사들의 시크릿\n",
      "7가지 프로젝트로 배우는 LLM AI 에이전트 개발\n",
      "2025 AI 트렌드 100\n",
      "개념과 원리가 보이는\n",
      "우리학교 인공지능 수업 2\n",
      "AI 2041\n",
      "인공지능은 나의 읽기-쓰기를 어떻게 바꿀까\n",
      "프롬프트 엔지니어링으로 인공지능 제대로 일 시키기\n",
      "개념과 원리가 보이는\n",
      "우리학교 인공지능 수업 1\n",
      "인공지능 윤리를 부탁해\n",
      "인공지능이 가르칠 수 있다는 착각\n",
      "AI 전쟁\n",
      "====================================================================================================\n",
      "인공지능입문\n",
      "인공지능과 죽음\n",
      "된다! 하루 만에 끝내는 챗GPT 활용법\n",
      "AI 리터러시: 인공지능 필수 지식부터 완벽 활용까지\n",
      "MCP로 똑똑하게 일하는 법\n",
      "비전공자도 이해할 수 있는 AI 지식(10만부 기념 개정판)\n",
      "김대식 교수의 어린이를 위한 인공지능 : 메타버스부터 챗GPT까지\n",
      "혼자 공부하는 머신러닝+딥러닝\n",
      "서울대학교 AI융합교육학과 인공지능 수업 가이드\n",
      "Google로 칼퇴하는 교사들의 시크릿\n",
      "7가지 프로젝트로 배우는 LLM AI 에이전트 개발\n",
      "2025 AI 트렌드 100\n",
      "우리학교 인공지능 수업 2\n",
      "AI 2041\n",
      "인공지능은 나의 읽기-쓰기를 어떻게 바꿀까\n",
      "프롬프트 엔지니어링으로 인공지능 제대로 일 시키기\n",
      "우리학교 인공지능 수업 1\n",
      "인공지능 윤리를 부탁해\n",
      "인공지능이 가르칠 수 있다는 착각\n",
      "AI 전쟁\n"
     ]
    }
   ],
   "source": [
    "import requests\n",
    "from bs4 import BeautifulSoup\n",
    "\n",
    "base_url = 'https://search.kyobobook.co.kr/search'\n",
    "\n",
    "params = {\n",
    "    'keyword': '인공지능',\n",
    "    'gbCode': 'TOT',\n",
    "    'target': 'kyobo'\n",
    "}\n",
    "\n",
    "# 크롤링 차단 우회를 위한 header 추가(네트워크 탭 다운된 파일 정보 참조)\n",
    "headers = {\n",
    "    \"User-Agent\": 'Mozilla/5.0 (Windows NT 10.0; Win64; x64) AppleWebKit/537.36 (KHTML, like Gecko) Chrome/138.0.0.0 Safari/537.36',\n",
    "}\n",
    "\n",
    "response = requests.get(base_url, params=params, headers=headers)\n",
    "\n",
    "html = response.text\n",
    "soup = BeautifulSoup(html, 'html.parser')\n",
    "\n",
    "for title in soup.select('.prod_info > span[id]'):\n",
    "    print(title.text)\n",
    "\n",
    "print('='*100)\n",
    "\n",
    "for title in soup.select('[id^=\"cmdtName_S\"]'):\n",
    "    print(title.text)    "
   ]
  }
 ],
 "metadata": {
  "kernelspec": {
   "display_name": "data-collector",
   "language": "python",
   "name": "python3"
  },
  "language_info": {
   "codemirror_mode": {
    "name": "ipython",
    "version": 3
   },
   "file_extension": ".py",
   "mimetype": "text/x-python",
   "name": "python",
   "nbconvert_exporter": "python",
   "pygments_lexer": "ipython3",
   "version": "3.13.5"
  }
 },
 "nbformat": 4,
 "nbformat_minor": 5
}
